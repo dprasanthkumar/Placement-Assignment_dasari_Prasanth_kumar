{
 "cells": [
  {
   "cell_type": "code",
   "execution_count": null,
   "metadata": {},
   "outputs": [],
   "source": [
    "\"\"\"\n",
    "To solve this problem, we can use Bayes' theorem. Let's define the following events:\n",
    "\n",
    "A: The taxi belongs to Company A.\n",
    "B: The taxi belongs to Company B.\n",
    "L: The taxi is late.\n",
    "\n",
    "We are given the following probabilities:\n",
    "P(A) = 0.8 (Company A has 80% of the taxis)\n",
    "P(B) = 0.2 (Company B has 20% of the taxis)\n",
    "P(L|A) = 0.05 (Company A's taxis have a 95% success rate, which means a 5% failure rate)\n",
    "P(L|B) = 0.10 (Company B's taxis have a 90% success rate, which means a 10% failure rate)\n",
    "\n",
    "We want to find P(A|L), the probability that the taxi belongs to Company A given that it is late.\n",
    "\n",
    "By applying Bayes' theorem, we have:\n",
    "\n",
    "P(A|L) = (P(L|A) * P(A)) / P(L)\n",
    "\n",
    "To find P(L), we can use the law of total probability:\n",
    "\n",
    "P(L) = P(L|A) * P(A) + P(L|B) * P(B)\n",
    "\n",
    "Plugging in the values, we get:\n",
    "\n",
    "P(L) = (0.05 * 0.8) + (0.10 * 0.2) = 0.04 + 0.02 = 0.06\n",
    "\n",
    "Now we can calculate P(A|L):\n",
    "\n",
    "P(A|L) = (P(L|A) * P(A)) / P(L)\n",
    "       = (0.05 * 0.8) / 0.06\n",
    "       = 0.04 / 0.06\n",
    "       = 2/3\n",
    "       ≈ 0.6667\n",
    "\n",
    "Therefore, the probability that a randomly selected late taxi belongs to Company A is approximately 0.6667 or 66.67%.\n",
    "\"\"\""
   ]
  }
 ],
 "metadata": {
  "language_info": {
   "name": "python"
  },
  "orig_nbformat": 4
 },
 "nbformat": 4,
 "nbformat_minor": 2
}
