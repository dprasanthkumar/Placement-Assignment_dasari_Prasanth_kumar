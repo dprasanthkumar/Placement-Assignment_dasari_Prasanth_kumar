{
 "cells": [
  {
   "cell_type": "code",
   "execution_count": 11,
   "metadata": {},
   "outputs": [],
   "source": [
    "import re\n",
    "\n",
    "def count_parts_of_speech(text):\n",
    "  \"\"\"Counts the number of verbs, nouns, pronouns, and adjectives in a given text.\n",
    "\n",
    "  Args:\n",
    "    text: The text to be analyzed.\n",
    "\n",
    "  Returns:\n",
    "    A dictionary containing the number of each part of speech.\n",
    "  \"\"\"\n",
    "\n",
    "  parts_of_speech = {\n",
    "    \"verbs\": 0,\n",
    "    \"nouns\": 0,\n",
    "    \"pronouns\": 0,\n",
    "    \"adjectives\": 0,\n",
    "  }\n",
    "\n",
    "  for word in text.split():\n",
    "    if re.match(r\"\\b(is|am|are|was|were|be|being|been|have|has|had|do|does|did|can|could|may|might|must|shall|should|will|would|will|shall|may|might|must)\\b\", word):\n",
    "      parts_of_speech[\"verbs\"] += 1\n",
    "    elif re.match(r\"\\b(a|an|the|this|that|these|those|who|whom|what|which|whose|whoever|whomever|where|when|why|how)\\b\", word):\n",
    "      parts_of_speech[\"pronouns\"] += 1\n",
    "    elif re.match(r\"\\b(I|me|my|mine|you|your|yours|he|him|his|she|her|hers|it|its|we|us|our|ours|they|them|their|theirs)\\b\", word):\n",
    "      parts_of_speech[\"pronouns\"] += 1\n",
    "    elif re.match(r\"\\b(big|small|tall|short|fat|thin|pretty|ugly|new|old|happy|sad|angry|excited)\\b\", word):\n",
    "      parts_of_speech[\"adjectives\"] += 1\n",
    "    else:\n",
    "      parts_of_speech[\"nouns\"] += 1\n",
    "\n",
    "  return parts_of_speech"
   ]
  },
  {
   "cell_type": "code",
   "execution_count": 12,
   "metadata": {},
   "outputs": [
    {
     "name": "stdout",
     "output_type": "stream",
     "text": [
      "{'verbs': 0, 'nouns': 4, 'pronouns': 1, 'adjectives': 2}\n"
     ]
    }
   ],
   "source": [
    "# Test cases\n",
    "\n",
    "text1 = \"The big dog chased the small cat.\"\n",
    "\n",
    "parts_of_speech1 = count_parts_of_speech(text1)\n",
    "\n",
    "print(parts_of_speech1)\n",
    "\n",
    "# Expected output:\n",
    "# {'verbs': 1, 'nouns': 3, 'pronouns': 0, 'adjectives': 2}"
   ]
  },
  {
   "cell_type": "code",
   "execution_count": 13,
   "metadata": {},
   "outputs": [
    {
     "name": "stdout",
     "output_type": "stream",
     "text": [
      "{'verbs': 1, 'nouns': 1, 'pronouns': 2, 'adjectives': 1}\n"
     ]
    }
   ],
   "source": [
    "text2 = \"I am a happy person.\"\n",
    "\n",
    "parts_of_speech2 = count_parts_of_speech(text2)\n",
    "\n",
    "print(parts_of_speech2)\n",
    "\n",
    "# Expected output:\n",
    "# {'verbs': 1, 'nouns': 1, 'pronouns': 1, 'adjectives': 1}"
   ]
  },
  {
   "cell_type": "code",
   "execution_count": null,
   "metadata": {},
   "outputs": [],
   "source": []
  }
 ],
 "metadata": {
  "kernelspec": {
   "display_name": "base",
   "language": "python",
   "name": "python3"
  },
  "language_info": {
   "codemirror_mode": {
    "name": "ipython",
    "version": 3
   },
   "file_extension": ".py",
   "mimetype": "text/x-python",
   "name": "python",
   "nbconvert_exporter": "python",
   "pygments_lexer": "ipython3",
   "version": "3.9.13"
  },
  "orig_nbformat": 4
 },
 "nbformat": 4,
 "nbformat_minor": 2
}
