{
 "cells": [
  {
   "attachments": {},
   "cell_type": "markdown",
   "metadata": {},
   "source": [
    "# A"
   ]
  },
  {
   "cell_type": "code",
   "execution_count": null,
   "metadata": {},
   "outputs": [],
   "source": [
    "\"\"\"\n",
    "To solve the given problem, we need to work with the equations of the regression lines:\n",
    "\n",
    "Equation of the regression line of X on Y:\n",
    "2𝑋 + 3 − 8 = 0\n",
    "2𝑋 = 5\n",
    "𝑋 = 5/2\n",
    "\n",
    "Equation of the regression line of Y on X:\n",
    "2𝑌 + 𝑋 − 5 = 0\n",
    "2𝑌 = -𝑋 + 5\n",
    "𝑌 = -(𝑋/2) + 5/2\n",
    "\n",
    "a. Variance of Y:\n",
    "To find the variance of Y, we need the coefficient of determination (r²), which can be obtained from the equation of the regression line of Y on X. The coefficient of determination (r²) is the squared correlation coefficient between X and Y.\n",
    "\n",
    "In this case, the coefficient of determination (r²) is the squared coefficient of X in the equation of the regression line of Y on X. From the equation, we can see that the coefficient of X is -1/2.\n",
    "\n",
    "Coefficient of determination (r²) = (-1/2)² = 1/4\n",
    "\n",
    "Now, we know that the variance of X is 4, so the variance of Y can be calculated using the formula:\n",
    "\n",
    "Variance of Y = r² * Variance of X\n",
    "\n",
    "Variance of Y = (1/4) * 4 = 1\n",
    "\n",
    "Therefore, the variance of Y is 1.\n",
    "\n",
    "\"\"\""
   ]
  },
  {
   "attachments": {},
   "cell_type": "markdown",
   "metadata": {},
   "source": [
    "# B"
   ]
  },
  {
   "cell_type": "code",
   "execution_count": null,
   "metadata": {},
   "outputs": [],
   "source": [
    "\"\"\"\n",
    "b. Coefficient of determination of X and Y:\n",
    "The coefficient of determination of X and Y is the same as the coefficient of determination of Y and X, as it represents the strength of the linear relationship between the two variables. We already calculated it in part a.\n",
    "\n",
    "Coefficient of determination of X and Y = Coefficient of determination of Y and X = 1/4\n",
    "\n",
    "\"\"\""
   ]
  },
  {
   "attachments": {},
   "cell_type": "markdown",
   "metadata": {},
   "source": [
    "# C"
   ]
  },
  {
   "cell_type": "code",
   "execution_count": null,
   "metadata": {},
   "outputs": [],
   "source": [
    "\"\"\"\n",
    "c. Standard error of estimate of X on Y and of Y on X:\n",
    "The standard error of estimate (SE) is a measure of the average distance between the actual values and the predicted values obtained from the regression line.\n",
    "\n",
    "To calculate the standard error of estimate of X on Y, we need to find the standard deviation of X and multiply it by the square root of (1 - r²).\n",
    "\n",
    "Standard deviation of X = sqrt(Variance of X) = sqrt(4) = 2\n",
    "\n",
    "Standard error of estimate of X on Y = Standard deviation of X * sqrt(1 - r²)\n",
    "\n",
    "Standard error of estimate of X on Y = 2 * sqrt(1 - 1/4) = 2 * sqrt(3/4) = 2 * sqrt(3)/2 = sqrt(3)\n",
    "\n",
    "To calculate the standard error of estimate of Y on X, we follow the same process using the standard deviation of Y.\n",
    "\n",
    "Standard deviation of Y = sqrt(Variance of Y) = sqrt(1) = 1\n",
    "\n",
    "Standard error of estimate of Y on X = Standard deviation of Y * sqrt(1 - r²)\n",
    "\n",
    "Standard error of estimate of Y on X = 1 * sqrt(1 - 1/4) = 1 * sqrt(3/4) = sqrt(3)/2\n",
    "\n",
    "Therefore, the standard error of estimate of X on Y is sqrt(3), and the standard error of estimate of Y on X is sqrt(3)/2.\n",
    "\n",
    "\"\"\""
   ]
  }
 ],
 "metadata": {
  "language_info": {
   "name": "python"
  },
  "orig_nbformat": 4
 },
 "nbformat": 4,
 "nbformat_minor": 2
}
