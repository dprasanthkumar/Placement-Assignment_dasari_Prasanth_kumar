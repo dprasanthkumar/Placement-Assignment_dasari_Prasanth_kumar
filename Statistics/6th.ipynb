{
 "cells": [
  {
   "cell_type": "code",
   "execution_count": 1,
   "metadata": {},
   "outputs": [
    {
     "data": {
      "text/plain": [
       "'\\nTo determine if the change in blood pressure follows a normal distribution, we can perform a normality test on the data provided. One commonly used test is the Shapiro-Wilk test. However, since the dataset is relatively large (n = 100), we can also visually inspect the data using a histogram and a normal probability plot (Q-Q plot).\\n\\nHere are the steps to analyze the data:\\n\\n1. Calculate the change in blood pressure for each patient by subtracting the \"Blood Pressure Before\" values from the corresponding \"Blood Pressure After\" values.\\n\\n2. Plot a histogram of the changes in blood pressure to visualize the distribution.\\n\\n3. Plot a Q-Q plot to compare the distribution of the data against a theoretical normal distribution.\\n\\nLet\\'s perform these steps using Python and the data provided:\\n'"
      ]
     },
     "execution_count": 1,
     "metadata": {},
     "output_type": "execute_result"
    }
   ],
   "source": [
    "\"\"\"\n",
    "To determine if the change in blood pressure follows a normal distribution, we can perform a normality test on the data provided. One commonly used test is the Shapiro-Wilk test. However, since the dataset is relatively large (n = 100), we can also visually inspect the data using a histogram and a normal probability plot (Q-Q plot).\n",
    "\n",
    "Here are the steps to analyze the data:\n",
    "\n",
    "1. Calculate the change in blood pressure for each patient by subtracting the \"Blood Pressure Before\" values from the corresponding \"Blood Pressure After\" values.\n",
    "\n",
    "2. Plot a histogram of the changes in blood pressure to visualize the distribution.\n",
    "\n",
    "3. Plot a Q-Q plot to compare the distribution of the data against a theoretical normal distribution.\n",
    "\n",
    "Let's perform these steps using Python and the data provided:\n",
    "\"\"\"\n"
   ]
  },
  {
   "cell_type": "code",
   "execution_count": 4,
   "metadata": {},
   "outputs": [
    {
     "name": "stdout",
     "output_type": "stream",
     "text": [
      "The change in blood pressure does not follow a normal distribution.\n"
     ]
    }
   ],
   "source": [
    "import scipy.stats as stats\n",
    "\n",
    "# Differences between before and after blood pressure measurements\n",
    "differences = [120-130, 135-142, 118-120, 127-135, 140-148, 118-122, 129-137, 124-130, 137-142, 125-128,\n",
    "               129-135, 132-140, 125-132, 136-145, 118-124, 122-128, 130-136, 139-143, 123-127, 132-139,\n",
    "               131-135, 126-131, 120-127, 123-130, 139-142, 122-128, 129-136, 136-140, 127-132, 140-145,\n",
    "               119-124, 121-128, 129-136, 137-143, 122-127, 135-139, 129-135, 124-131, 119-127, 124-130,\n",
    "               139-142, 123-128, 131-136, 135-140, 127-132, 141-145, 118-124, 121-128, 129-136, 137-143,\n",
    "               123-127, 135-139, 130-135, 125-131, 121-127, 124-130, 122-128, 129-136, 139-140, 127-132,\n",
    "               141-145, 118-124, 121-128, 129-136, 137-143, 123-127, 135-139, 130-135, 125-131, 121-127,\n",
    "               124-130, 124-128, 122-129, 129-136, 136-142, 123-128, 131-136, 135-140, 127-132, 141-145,\n",
    "               118-124, 121-128, 129-136, 137-143, 123-127, 135-139, 130-135, 125-131, 121-127, 124-130,\n",
    "               122-128, 124-130, 122-128, 129-136, 139-142, 127-132, 141-145, 118-124, 121-128, 129-136,\n",
    "               137-143, 123-127, 135-139, 130-135, 125-131, 121-127, 124-130]\n",
    "\n",
    "# Perform Shapiro-Wilk test\n",
    "statistic, p_value = stats.shapiro(differences)\n",
    "\n",
    "# Print the results\n",
    "alpha = 0.05\n",
    "if p_value > alpha:\n",
    "    print(\"The change in blood pressure follows a normal distribution.\")\n",
    "else:\n",
    "    print(\"The change in blood pressure does not follow a normal distribution.\")\n"
   ]
  },
  {
   "attachments": {},
   "cell_type": "markdown",
   "metadata": {},
   "source": [
    "# 2"
   ]
  },
  {
   "cell_type": "code",
   "execution_count": 7,
   "metadata": {},
   "outputs": [],
   "source": [
    "import pandas as pd\n",
    "import scipy.stats as stats\n",
    "\n",
    "# Read data from CSV file\n",
    "data = pd.read_csv('data.csv')"
   ]
  },
  {
   "cell_type": "code",
   "execution_count": 8,
   "metadata": {},
   "outputs": [
    {
     "data": {
      "text/html": [
       "<div>\n",
       "<style scoped>\n",
       "    .dataframe tbody tr th:only-of-type {\n",
       "        vertical-align: middle;\n",
       "    }\n",
       "\n",
       "    .dataframe tbody tr th {\n",
       "        vertical-align: top;\n",
       "    }\n",
       "\n",
       "    .dataframe thead th {\n",
       "        text-align: right;\n",
       "    }\n",
       "</style>\n",
       "<table border=\"1\" class=\"dataframe\">\n",
       "  <thead>\n",
       "    <tr style=\"text-align: right;\">\n",
       "      <th></th>\n",
       "      <th>Patient ID</th>\n",
       "      <th>Blood Pressure Before (mmHg)</th>\n",
       "      <th>Blood Pressure After (mmHg)</th>\n",
       "    </tr>\n",
       "  </thead>\n",
       "  <tbody>\n",
       "    <tr>\n",
       "      <th>0</th>\n",
       "      <td>1</td>\n",
       "      <td>130</td>\n",
       "      <td>120</td>\n",
       "    </tr>\n",
       "    <tr>\n",
       "      <th>1</th>\n",
       "      <td>2</td>\n",
       "      <td>142</td>\n",
       "      <td>135</td>\n",
       "    </tr>\n",
       "    <tr>\n",
       "      <th>2</th>\n",
       "      <td>3</td>\n",
       "      <td>120</td>\n",
       "      <td>118</td>\n",
       "    </tr>\n",
       "    <tr>\n",
       "      <th>3</th>\n",
       "      <td>4</td>\n",
       "      <td>135</td>\n",
       "      <td>127</td>\n",
       "    </tr>\n",
       "    <tr>\n",
       "      <th>4</th>\n",
       "      <td>5</td>\n",
       "      <td>148</td>\n",
       "      <td>140</td>\n",
       "    </tr>\n",
       "    <tr>\n",
       "      <th>...</th>\n",
       "      <td>...</td>\n",
       "      <td>...</td>\n",
       "      <td>...</td>\n",
       "    </tr>\n",
       "    <tr>\n",
       "      <th>95</th>\n",
       "      <td>96</td>\n",
       "      <td>136</td>\n",
       "      <td>129</td>\n",
       "    </tr>\n",
       "    <tr>\n",
       "      <th>96</th>\n",
       "      <td>97</td>\n",
       "      <td>143</td>\n",
       "      <td>137</td>\n",
       "    </tr>\n",
       "    <tr>\n",
       "      <th>97</th>\n",
       "      <td>98</td>\n",
       "      <td>127</td>\n",
       "      <td>123</td>\n",
       "    </tr>\n",
       "    <tr>\n",
       "      <th>98</th>\n",
       "      <td>99</td>\n",
       "      <td>139</td>\n",
       "      <td>135</td>\n",
       "    </tr>\n",
       "    <tr>\n",
       "      <th>99</th>\n",
       "      <td>100</td>\n",
       "      <td>135</td>\n",
       "      <td>130</td>\n",
       "    </tr>\n",
       "  </tbody>\n",
       "</table>\n",
       "<p>100 rows × 3 columns</p>\n",
       "</div>"
      ],
      "text/plain": [
       "    Patient ID   Blood Pressure Before (mmHg)   Blood Pressure After (mmHg)\n",
       "0            1                            130                           120\n",
       "1            2                            142                           135\n",
       "2            3                            120                           118\n",
       "3            4                            135                           127\n",
       "4            5                            148                           140\n",
       "..         ...                            ...                           ...\n",
       "95          96                            136                           129\n",
       "96          97                            143                           137\n",
       "97          98                            127                           123\n",
       "98          99                            139                           135\n",
       "99         100                            135                           130\n",
       "\n",
       "[100 rows x 3 columns]"
      ]
     },
     "execution_count": 8,
     "metadata": {},
     "output_type": "execute_result"
    }
   ],
   "source": [
    "data"
   ]
  },
  {
   "cell_type": "code",
   "execution_count": null,
   "metadata": {},
   "outputs": [],
   "source": [
    "data[\" Blood Pressure Before (mmHg)\"]"
   ]
  },
  {
   "cell_type": "code",
   "execution_count": 11,
   "metadata": {},
   "outputs": [],
   "source": [
    "# Calculate differences between before and after blood pressure measurements\n",
    "differences = data[' Blood Pressure After (mmHg)'] - data[' Blood Pressure Before (mmHg)']\n"
   ]
  },
  {
   "cell_type": "code",
   "execution_count": 12,
   "metadata": {},
   "outputs": [
    {
     "data": {
      "text/plain": [
       "0    -10\n",
       "1     -7\n",
       "2     -2\n",
       "3     -8\n",
       "4     -8\n",
       "      ..\n",
       "95    -7\n",
       "96    -6\n",
       "97    -4\n",
       "98    -4\n",
       "99    -5\n",
       "Length: 100, dtype: int64"
      ]
     },
     "execution_count": 12,
     "metadata": {},
     "output_type": "execute_result"
    }
   ],
   "source": [
    "differences"
   ]
  },
  {
   "cell_type": "code",
   "execution_count": 13,
   "metadata": {},
   "outputs": [
    {
     "name": "stdout",
     "output_type": "stream",
     "text": [
      "The change in blood pressure does not follow a normal distribution.\n"
     ]
    }
   ],
   "source": [
    "alpha = 0.05\n",
    "if p_value > alpha:\n",
    "    print(\"The change in blood pressure follows a normal distribution.\")\n",
    "else:\n",
    "    print(\"The change in blood pressure does not follow a normal distribution.\")"
   ]
  },
  {
   "cell_type": "code",
   "execution_count": null,
   "metadata": {},
   "outputs": [],
   "source": []
  }
 ],
 "metadata": {
  "kernelspec": {
   "display_name": "base",
   "language": "python",
   "name": "python3"
  },
  "language_info": {
   "codemirror_mode": {
    "name": "ipython",
    "version": 3
   },
   "file_extension": ".py",
   "mimetype": "text/x-python",
   "name": "python",
   "nbconvert_exporter": "python",
   "pygments_lexer": "ipython3",
   "version": "3.9.13"
  },
  "orig_nbformat": 4
 },
 "nbformat": 4,
 "nbformat_minor": 2
}
