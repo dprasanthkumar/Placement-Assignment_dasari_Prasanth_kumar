{
 "cells": [
  {
   "cell_type": "code",
   "execution_count": 2,
   "metadata": {},
   "outputs": [
    {
     "name": "stdout",
     "output_type": "stream",
     "text": [
      "Data has been downloaded, converted, and saved to 3_pokemon_data.xlsx\n"
     ]
    }
   ],
   "source": [
    "import pandas as pd\n",
    "import requests\n",
    "\n",
    "def download_data(url):\n",
    "    response = requests.get(url)\n",
    "    data = response.json()\n",
    "    return data\n",
    "\n",
    "def convert_to_dataframe(data):\n",
    "    df = pd.json_normalize(data, 'pokemon')\n",
    "    return df\n",
    "\n",
    "def save_to_excel(dataframe, filename):\n",
    "    dataframe.to_excel(filename, index=False)\n",
    "\n",
    "# Download the data from the provided link\n",
    "url = 'https://raw.githubusercontent.com/Biuni/PokemonGO-Pokedex/master/pokedex.json'\n",
    "data = download_data(url)\n",
    "\n",
    "# Convert the data to a DataFrame\n",
    "df = convert_to_dataframe(data)\n",
    "\n",
    "# Save the DataFrame to an Excel file\n",
    "filename = '3_pokemon_data.xlsx'\n",
    "save_to_excel(df, filename)\n",
    "\n",
    "print(\"Data has been downloaded, converted, and saved to\", filename)"
   ]
  },
  {
   "cell_type": "code",
   "execution_count": null,
   "metadata": {},
   "outputs": [],
   "source": []
  }
 ],
 "metadata": {
  "kernelspec": {
   "display_name": "base",
   "language": "python",
   "name": "python3"
  },
  "language_info": {
   "codemirror_mode": {
    "name": "ipython",
    "version": 3
   },
   "file_extension": ".py",
   "mimetype": "text/x-python",
   "name": "python",
   "nbconvert_exporter": "python",
   "pygments_lexer": "ipython3",
   "version": "3.9.13"
  },
  "orig_nbformat": 4
 },
 "nbformat": 4,
 "nbformat_minor": 2
}
