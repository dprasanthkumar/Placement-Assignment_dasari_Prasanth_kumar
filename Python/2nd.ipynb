{
 "cells": [
  {
   "cell_type": "code",
   "execution_count": 1,
   "metadata": {},
   "outputs": [],
   "source": [
    "from collections import Counter\n",
    "\n",
    "def is_valid_string(s):\n",
    "    # Count the frequency of each character in the string\n",
    "    char_counts = Counter(s)\n",
    "\n",
    "    # Count the frequency of each frequency\n",
    "    freq_counts = Counter(char_counts.values())\n",
    "\n",
    "    # If there is only one frequency, the string is already valid\n",
    "    if len(freq_counts) == 1:\n",
    "        return \"YES\"\n",
    "\n",
    "    # If there are more than two frequencies, the string can't be valid\n",
    "    if len(freq_counts) > 2:\n",
    "        return \"NO\"\n",
    "\n",
    "    # If there are exactly two frequencies, check if we can remove one character to make it valid\n",
    "    freq_list = list(freq_counts.items())\n",
    "    freq1, count1 = freq_list[0]\n",
    "    freq2, count2 = freq_list[1]\n",
    "\n",
    "    # If one frequency has a count of 1 and the other frequency is the only one occurring once\n",
    "    if (count1 == 1 and freq1 == 1) or (count2 == 1 and freq2 == 1):\n",
    "        return \"YES\"\n",
    "\n",
    "    # If the difference between the two frequencies is 1 and one of them occurs only once\n",
    "    if (count1 == 1 and freq1 - freq2 == 1) or (count2 == 1 and freq2 - freq1 == 1):\n",
    "        return \"YES\"\n",
    "\n",
    "    # Otherwise, the string can't be made valid\n",
    "    return \"NO\""
   ]
  },
  {
   "cell_type": "code",
   "execution_count": 2,
   "metadata": {},
   "outputs": [
    {
     "name": "stdout",
     "output_type": "stream",
     "text": [
      "YES\n"
     ]
    }
   ],
   "source": [
    "# Test the function\n",
    "string1 = \"abcde\"\n",
    "print(is_valid_string(string1))  # Output: YES"
   ]
  },
  {
   "cell_type": "code",
   "execution_count": 3,
   "metadata": {},
   "outputs": [
    {
     "name": "stdout",
     "output_type": "stream",
     "text": [
      "YES\n"
     ]
    }
   ],
   "source": [
    "string2 = \"aabbccdde\"\n",
    "print(is_valid_string(string2))  # Output: YES"
   ]
  },
  {
   "cell_type": "code",
   "execution_count": null,
   "metadata": {},
   "outputs": [],
   "source": []
  }
 ],
 "metadata": {
  "kernelspec": {
   "display_name": "base",
   "language": "python",
   "name": "python3"
  },
  "language_info": {
   "codemirror_mode": {
    "name": "ipython",
    "version": 3
   },
   "file_extension": ".py",
   "mimetype": "text/x-python",
   "name": "python",
   "nbconvert_exporter": "python",
   "pygments_lexer": "ipython3",
   "version": "3.9.13"
  },
  "orig_nbformat": 4
 },
 "nbformat": 4,
 "nbformat_minor": 2
}
