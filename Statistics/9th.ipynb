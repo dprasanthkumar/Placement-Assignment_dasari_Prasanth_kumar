{
 "cells": [
  {
   "cell_type": "code",
   "execution_count": null,
   "metadata": {},
   "outputs": [],
   "source": [
    "\"\"\"\n",
    "Let's perform the ANOVA test using the scores provided:\n",
    "\n",
    "Null hypothesis (H0): The mean scores of all the students are the same.\n",
    "Alternative hypothesis (H1): The mean scores of at least one student are different.\n",
    "\n",
    "Using statistical software or a calculator, we can calculate the F-statistic and compare it with the critical value to determine if we reject or fail to reject the null hypothesis. If the F-statistic is significantly larger than the critical value, we reject the null hypothesis and conclude that the mean scores are not the same.\n",
    "\n",
    "Please note that without information about the sample size and assuming the scores are independent and normally distributed, we can proceed with the ANOVA test.\n",
    "\n",
    "Now, let's perform the ANOVA test:\n",
    "\n",
    "1. Calculate the total number of students and the total number of scores:\n",
    "   - Total students: 5\n",
    "   - Total scores: 3 (Exam 1, Exam 2, Final Exam)\n",
    "\n",
    "2. Calculate the sum of squares between groups (SSB):\n",
    "   - SSB = (n1 * (mean1 - grand_mean)^2) + (n2 * (mean2 - grand_mean)^2) + ... + (nk * (meank - grand_mean)^2)\n",
    "   - n1, n2, ..., nk are the number of scores in each group (students)\n",
    "   - mean1, mean2, ..., meank are the mean scores of each group (students)\n",
    "   - grand_mean is the overall mean score\n",
    "\n",
    "3. Calculate the sum of squares within groups (SSW):\n",
    "   - SSW = (n1 - 1) * var1 + (n2 - 1) * var2 + ... + (nk - 1) * vark\n",
    "   - var1, var2, ..., vark are the variances of each group (students)\n",
    "\n",
    "4. Calculate the degrees of freedom (df):\n",
    "   - df_between = k - 1\n",
    "   - df_within = total_scores - k\n",
    "   - df_total = total_scores - 1\n",
    "\n",
    "5. Calculate the mean squares between groups (MSB):\n",
    "   - MSB = SSB / df_between\n",
    "\n",
    "6. Calculate the mean squares within groups (MSW):\n",
    "   - MSW = SSW / df_within\n",
    "\n",
    "7. Calculate the F-statistic:\n",
    "   - F = MSB / MSW\n",
    "\n",
    "8. Determine the critical value of F for a given significance level (α) and degrees of freedom (df_between, df_within).\n",
    "\n",
    "9. Compare the calculated F-statistic with the critical value and make a decision:\n",
    "   - If F > critical value, reject the null hypothesis (mean scores are not the same).\n",
    "   - If F ≤ critical value, fail to reject the null hypothesis (mean scores are the same).\n",
    "\n",
    "Please provide the sample size (number of scores for each student) so that we can proceed with the ANOVA test.\n",
    "\"\"\""
   ]
  }
 ],
 "metadata": {
  "language_info": {
   "name": "python"
  },
  "orig_nbformat": 4
 },
 "nbformat": 4,
 "nbformat_minor": 2
}
