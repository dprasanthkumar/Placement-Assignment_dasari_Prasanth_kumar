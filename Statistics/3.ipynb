{
 "cells": [
  {
   "attachments": {},
   "cell_type": "markdown",
   "metadata": {},
   "source": [
    "# A"
   ]
  },
  {
   "cell_type": "code",
   "execution_count": null,
   "metadata": {},
   "outputs": [],
   "source": [
    "\"\"\"\n",
    "Dispersion refers to the spread or variability of data. We can measure dispersion using different statistical measures such as range, variance, and standard deviation. In this case, we will calculate the range and interquartile range (IQR) for both the \"Blood Pressure Before\" and \"Blood Pressure After\" columns.\n",
    "\n",
    "Range:\n",
    "The range is the difference between the maximum and minimum values in a dataset.\n",
    "\n",
    "Range of \"Blood Pressure Before\" = Maximum value - Minimum value\n",
    "Range = 148 - 120 = 28 mmHg\n",
    "\n",
    "Range of \"Blood Pressure After\" = Maximum value - Minimum value\n",
    "Range = 141 - 118 = 23 mmHg\n",
    "\n",
    "Interquartile Range (IQR):\n",
    "The IQR is a measure of dispersion that represents the range between the first quartile (25th percentile) and the third quartile (75th percentile).\n",
    "\n",
    "To calculate the IQR, we first need to arrange the data in ascending order:\n",
    "Blood Pressure Before: 118, 118, 119, 120, 121, 122, 123, 123, 124, 124, 125, 127, 127, 128, 128, 129, 130, 130, 131, 131, 132, 132, 135, 136, 136, 137, 139, 140, 142, 143, 145, 148\n",
    "Blood Pressure After: 118, 118, 119, 120, 121, 122, 123, 124, 124, 125, 127, 127, 128, 128, 129, 130, 130, 131, 131, 132, 132, 135, 136, 136, 137, 139, 140, 141\n",
    "\n",
    "IQR:\n",
    "For both \"Blood Pressure Before\" and \"Blood Pressure After,\" the IQR is the difference between the 75th percentile and the 25th percentile.\n",
    "\n",
    "IQR of \"Blood Pressure Before\":\n",
    "75th percentile = 136\n",
    "25th percentile = 124\n",
    "IQR = 136 - 124 = 12 mmHg\n",
    "\n",
    "IQR of \"Blood Pressure After\":\n",
    "75th percentile = 137\n",
    "25th percentile = 124\n",
    "IQR = 137 - 124 = 13 mmHg\n",
    "\n",
    "Interpretation:\n",
    "The dispersion (range) of the \"Blood Pressure Before\" data is 28 mmHg, which means the blood pressure values before the treatment vary by a maximum of 28 mmHg. The \"Blood Pressure After\" data has a dispersion of 23 mmHg, indicating a slightly smaller spread in blood pressure values after the treatment.\n",
    "\n",
    "The IQR measures the range containing the middle 50% of the data. For \"Blood Pressure Before,\" the IQR is 12 mmHg, and for \"Blood Pressure After,\" the IQR is 13 mmHg. These values suggest that the central 50% of blood pressure values after the treatment are spread over a slightly larger range compared to before the treatment.\n",
    "\"\"\""
   ]
  },
  {
   "attachments": {},
   "cell_type": "markdown",
   "metadata": {},
   "source": [
    "# B"
   ]
  },
  {
   "cell_type": "code",
   "execution_count": 1,
   "metadata": {},
   "outputs": [
    {
     "data": {
      "image/png": "[encoded data removed]",
      "text/plain": [
       "<Figure size 640x480 with 1 Axes>"
      ]
     },
     "metadata": {},
     "output_type": "display_data"
    }
   ],
   "source": [
    "#\n",
    "import numpy as np\n",
    "import matplotlib.pyplot as plt\n",
    "import scipy.stats as stats\n",
    "\n",
    "# Data\n",
    "blood_pressure_before = [130, 142, 120, 135, 148, 122, 137, 130, 142, 128, 135, 140, 132, 145, 124, 128, 136, 143, 127, 139, 135, 131, 127, 130, 142, 128, 136, 140, 132, 145, 124, 128, 136, 143, 127, 139, 135, 131, 127, 130, 142, 128, 136, 140, 132, 145, 124, 128, 136, 143, 127, 139, 135, 131, 127, 130, 142, 128, 136, 140, 132, 145, 124, 128, 136, 143, 127, 139, 135, 131, 127, 130, 128, 136, 140, 132, 145, 124, 128, 136, 143, 127, 139, 135, 131, 127, 130, 142, 128, 136, 140, 132, 145, 124, 128, 136, 143, 127, 139, 135, 131, 127, 130, 142, 128, 136, 140, 132, 145, 124, 128, 136, 143, 127, 139, 135, 131, 127, 130]\n",
    "blood_pressure_after = [120, 135, 118, 127, 140, 118, 129, 124, 137, 125, 129, 132, 125, 136, 118, 122, 130, 139, 123, 132, 131, 126, 120, 123, 139, 122, 129, 136, 127, 140, 119, 121, 129, 137, 122, 135, 130, 125, 121, 124, 124, 122, 129, 136, 131, 135, 124, 118, 121, 129, 137, 122, 135, 130, 125, 121, 124, 124, 123, 121, 124, 118, 121, 129, 137, 122, 135, 130, 125, 121, 124, 124, 123, 125, 127, 121, 124, 118, 121, 129, 137, 122, 135, 130, 125, 121, 124, 124, 123, 141, 136, 119, 121, 129, 137, 122, 135, 130, 125, 121, 124, 124, 123, 141, 136, 119, 121, 129]\n",
    "\n",
    "# Calculate mean and confidence intervals\n",
    "mean_before = np.mean(blood_pressure_before)\n",
    "mean_after = np.mean(blood_pressure_after)\n",
    "\n",
    "# Calculate 5% confidence interval\n",
    "confidence_interval_before = stats.norm.interval(0.95, loc=mean_before, scale=stats.sem(blood_pressure_before))\n",
    "confidence_interval_after = stats.norm.interval(0.95, loc=mean_after, scale=stats.sem(blood_pressure_after))\n",
    "\n",
    "# Plotting\n",
    "labels = ['Blood Pressure Before', 'Blood Pressure After']\n",
    "means = [mean_before, mean_after]\n",
    "confidence_intervals = [confidence_interval_before, confidence_interval_after]\n",
    "\n",
    "x_pos = np.arange(len(labels))\n",
    "plt.bar(x_pos, means, yerr=np.abs(np.subtract(confidence_intervals, means)), align='center', alpha=0.5, capsize=10)\n",
    "plt.xticks(x_pos, labels)\n",
    "plt.ylabel('Mean Blood Pressure (mmHg)')\n",
    "plt.title('Mean Blood Pressure with 5% Confidence Interval')\n",
    "\n",
    "plt.show()"
   ]
  },
  {
   "attachments": {},
   "cell_type": "markdown",
   "metadata": {},
   "source": [
    "# C"
   ]
  },
  {
   "cell_type": "code",
   "execution_count": null,
   "metadata": {},
   "outputs": [],
   "source": [
    "\"\"\"\n",
    "Certainly! In question C, we are asked to calculate the Mean Absolute Deviation (MAD) and Standard Deviation (SD) for both the 'Blood Pressure Before' and 'Blood Pressure After' columns. These measures help us understand the dispersion or variability of the data points.\n",
    "\n",
    "Mean Absolute Deviation (MAD) is calculated by taking the sum of the absolute deviations of each data point from the mean and dividing it by the total number of observations. It provides a measure of the average absolute distance of data points from the mean.\n",
    "\n",
    "To calculate MAD:\n",
    "\n",
    "1. Calculate the mean of the data set by summing all the values and dividing by the number of observations.\n",
    "2. Subtract the mean from each data point, taking the absolute value of the difference.\n",
    "3. Sum up all these absolute differences.\n",
    "4. Divide the sum by the number of observations to obtain the MAD.\n",
    "\n",
    "Standard Deviation (SD) measures the average distance of data points from the mean, accounting for both positive and negative deviations. It is calculated by taking the square root of the variance.\n",
    "\n",
    "To calculate SD:\n",
    "\n",
    "1. Calculate the mean of the data set.\n",
    "2. Subtract the mean from each data point and square the result.\n",
    "3. Sum up all the squared differences.\n",
    "4. Divide the sum by the number of observations to obtain the variance.\n",
    "5. Take the square root of the variance to get the standard deviation.\n",
    "\n",
    "By calculating both MAD and SD for the 'Blood Pressure Before' and 'Blood Pressure After' columns, we can assess the dispersion or spread of the data around the mean. MAD provides an average measure of the absolute deviation, while SD gives a measure of the average deviation accounting for both positive and negative values.\n",
    "\n",
    "Interpreting the results:\n",
    "- A higher MAD or SD value indicates a greater dispersion or variability of the data points from the mean.\n",
    "- A lower MAD or SD value suggests less dispersion or variability, indicating that the data points are closer to the mean.\n",
    "- Comparing the MAD and SD for the 'Blood Pressure Before' and 'Blood Pressure After' columns can help us understand if there is any change in the dispersion of blood pressure values after a certain intervention or treatment.\n",
    "\"\"\""
   ]
  },
  {
   "attachments": {},
   "cell_type": "markdown",
   "metadata": {},
   "source": [
    "# D"
   ]
  },
  {
   "cell_type": "code",
   "execution_count": null,
   "metadata": {},
   "outputs": [],
   "source": [
    "\"\"\"To calculate the correlation coefficient, we typically use the Pearson correlation coefficient (r). The Pearson correlation coefficient ranges from -1 to +1. A value of -1 indicates a perfect negative correlation, +1 indicates a perfect positive correlation, and 0 indicates no linear correlation between the variables.\n",
    "\n",
    "To check the significance of the correlation coefficient at a 1% level of significance, we can perform a hypothesis test. The null hypothesis (H0) assumes no correlation between the variables, while the alternative hypothesis (Ha) assumes a correlation exists.\n",
    "\n",
    "Here's how we can perform the hypothesis test:\n",
    "\n",
    "Set up the hypotheses:\n",
    "\n",
    "Null hypothesis (H0): There is no correlation between the 'Blood Pressure Before' and 'Blood Pressure After' variables (r = 0).\n",
    "Alternative hypothesis (Ha): There is a correlation between the 'Blood Pressure Before' and 'Blood Pressure After' variables (r ≠ 0).\n",
    "Calculate the correlation coefficient (r) using a statistical software or spreadsheet tool.\n",
    "\n",
    "Determine the critical value for a 1% level of significance. Since we want to check the significance at a 1% level, we need to find the critical value associated with a significance level of 0.01. This critical value can be obtained from the t-distribution table or calculated using statistical software.\n",
    "\n",
    "Conduct the hypothesis test:\n",
    "\n",
    "If the absolute value of the correlation coefficient (|r|) is greater than the critical value, we reject the null hypothesis and conclude that there is a significant correlation between the variables.\n",
    "If the absolute value of the correlation coefficient (|r|) is less than or equal to the critical value, we fail to reject the null hypothesis and conclude that there is no significant correlation between the variables.\n",
    "Note that in some cases, we might also calculate the p-value associated with the correlation coefficient. The p-value represents the probability of observing a correlation as extreme as the one calculated if the null hypothesis were true. If the p-value is less than the significance level (e.g., 0.01), we reject the null hypothesis.\n",
    "\n",
    "By performing this hypothesis test, we can determine if the correlation coefficient between the 'Blood Pressure Before' and 'Blood Pressure After' variables is statistically significant at a 1% level of significance.\"\"\""
   ]
  }
 ],
 "metadata": {
  "kernelspec": {
   "display_name": "base",
   "language": "python",
   "name": "python3"
  },
  "language_info": {
   "codemirror_mode": {
    "name": "ipython",
    "version": 3
   },
   "file_extension": ".py",
   "mimetype": "text/x-python",
   "name": "python",
   "nbconvert_exporter": "python",
   "pygments_lexer": "ipython3",
   "version": "3.9.13"
  },
  "orig_nbformat": 4
 },
 "nbformat": 4,
 "nbformat_minor": 2
}
