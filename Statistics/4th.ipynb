{
 "cells": [
  {
   "cell_type": "code",
   "execution_count": null,
   "metadata": {},
   "outputs": [],
   "source": [
    "\"\"\"\n",
    "To find the probability that the number drawn is a perfect square, we need to determine the number of favorable outcomes (slips with perfect square numbers) and the total number of possible outcomes (all slips).\n",
    "\n",
    "Favorable outcomes:\n",
    "There are four perfect squares between 1 and 20: 1, 4, 9, and 16. Each of these perfect squares corresponds to one favorable outcome.\n",
    "\n",
    "Total possible outcomes:\n",
    "Since there are 20 friends participating, there will be 20 slips of paper in the hat. Each slip can have a number between 1 and 20, inclusive. Therefore, the total number of possible outcomes is 20.\n",
    "\n",
    "Now we can calculate the probability:\n",
    "\n",
    "Probability = (Number of favorable outcomes) / (Total number of possible outcomes)\n",
    "Probability = 4 / 20\n",
    "Probability = 1 / 5\n",
    "\n",
    "Therefore, the probability that the number drawn is a perfect square is 1/5 or 0.2 (20%).\n",
    "\"\"\""
   ]
  }
 ],
 "metadata": {
  "language_info": {
   "name": "python"
  },
  "orig_nbformat": 4
 },
 "nbformat": 4,
 "nbformat_minor": 2
}
