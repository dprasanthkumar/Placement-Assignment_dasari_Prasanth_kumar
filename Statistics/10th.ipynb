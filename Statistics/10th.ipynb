{
 "cells": [
  {
   "attachments": {},
   "cell_type": "markdown",
   "metadata": {},
   "source": [
    "# A"
   ]
  },
  {
   "cell_type": "code",
   "execution_count": null,
   "metadata": {},
   "outputs": [],
   "source": [
    "Certainly! Let's go through each question step by step.\n",
    "\n",
    "a. Probability of exactly 20 bulbs being defective:\n",
    "To find the probability that exactly 20 bulbs are defective, we use the binomial probability formula. The formula calculates the probability of getting exactly k successes in a fixed number of trials.\n",
    "\n",
    "In this case, the factory produces 500 light bulbs, and the probability of a bulb being defective is 0.05. So, we have n = 500 (total number of trials), k = 20 (number of successful trials), and p = 0.05 (probability of success).\n",
    "\n",
    "Using the binomial probability formula, we can calculate P(X = 20):\n",
    "\n",
    "P(X = 20) = C(500, 20) * 0.05^20 * (1 - 0.05)^(500 - 20)\n",
    "\n",
    "Here, C(500, 20) represents the number of combinations of 500 items taken 20 at a time.\n",
    "\n"
   ]
  },
  {
   "attachments": {},
   "cell_type": "markdown",
   "metadata": {},
   "source": [
    "# B"
   ]
  },
  {
   "cell_type": "code",
   "execution_count": null,
   "metadata": {},
   "outputs": [],
   "source": [
    "b. Probability of at least 10 bulbs being defective:\n",
    "To find the probability that at least 10 bulbs are defective, we calculate the cumulative probability of having 10 or more defective bulbs. This is done by subtracting the cumulative probability of having fewer than 10 defective bulbs from 1.\n",
    "\n",
    "To calculate P(X < 10), we sum up the individual probabilities for 0 to 9 defective bulbs using the binomial probability formula:\n",
    "\n",
    "P(X < 10) = P(X = 0) + P(X = 1) + P(X = 2) + ... + P(X = 9)\n",
    "\n",
    "Then, we can find the probability of at least 10 defective bulbs by subtracting P(X < 10) from 1:\n",
    "\n",
    "P(X ≥ 10) = 1 - P(X < 10)"
   ]
  },
  {
   "attachments": {},
   "cell_type": "markdown",
   "metadata": {},
   "source": [
    "# c"
   ]
  },
  {
   "cell_type": "code",
   "execution_count": null,
   "metadata": {},
   "outputs": [],
   "source": [
    "c. Probability of at most 15 bulbs being defective:\n",
    "To find the probability that at most 15 bulbs are defective, we calculate the cumulative probability of having 15 or fewer defective bulbs. This can be done by subtracting the cumulative probability of having more than 15 defective bulbs from 1.\n",
    "\n",
    "To calculate P(X > 15), we sum up the individual probabilities for 16 to 500 non-defective bulbs using the binomial probability formula:\n",
    "\n",
    "P(X > 15) = P(X = 16) + P(X = 17) + P(X = 18) + ... + P(X = 500)\n",
    "\n",
    "Then, we can find the probability of at most 15 defective bulbs by subtracting P(X > 15) from 1:\n",
    "\n",
    "P(X ≤ 15) = 1 - P(X > 15)"
   ]
  }
 ],
 "metadata": {
  "language_info": {
   "name": "python"
  },
  "orig_nbformat": 4
 },
 "nbformat": 4,
 "nbformat_minor": 2
}
