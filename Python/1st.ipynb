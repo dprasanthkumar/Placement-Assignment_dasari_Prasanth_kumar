{
 "cells": [
  {
   "cell_type": "code",
   "execution_count": 8,
   "metadata": {},
   "outputs": [],
   "source": [
    "from collections import Counter\n",
    "def find_highest_frequency(string):\n",
    "    # Split the string into words\n",
    "    words = string.split()\n",
    "\n",
    "    # Count the frequency of each word\n",
    "    word_counts = Counter(words)\n",
    "\n",
    "    # Find the highest frequency\n",
    "    highest_frequency = max(word_counts.values())\n",
    "\n",
    "    # Find the highest-frequency word(s)\n",
    "    highest_frequency_words = [word for word, count in word_counts.items() if count == highest_frequency]\n",
    "\n",
    "    # Find the length of the highest-frequency word\n",
    "    highest_frequency_word_length = len(highest_frequency_words[0])\n",
    "\n",
    "    # Return the length\n",
    "    return highest_frequency_words[0],highest_frequency_word_length"
   ]
  },
  {
   "cell_type": "code",
   "execution_count": 9,
   "metadata": {},
   "outputs": [
    {
     "name": "stdout",
     "output_type": "stream",
     "text": [
      "The length of the highest-frequency word is ('aaaa', 4).\n"
     ]
    }
   ],
   "source": [
    "#case 1:\n",
    "input_string = \"aaaa aaaa aaa aaa aaaa aaaa aa aa a a\"\n",
    "length = find_highest_frequency(input_string)\n",
    "print(f\"The length of the highest-frequency word is {length}.\")\n"
   ]
  },
  {
   "cell_type": "code",
   "execution_count": 10,
   "metadata": {},
   "outputs": [
    {
     "name": "stdout",
     "output_type": "stream",
     "text": [
      "The length of the highest-frequency word is ('write', 5).\n"
     ]
    }
   ],
   "source": [
    "#case 2:\n",
    "input_string = \" write write write all the number from from from 1 to 100\"\n",
    "length = find_highest_frequency(input_string)\n",
    "print(f\"The length of the highest-frequency word is {length}.\")\n"
   ]
  }
 ],
 "metadata": {
  "kernelspec": {
   "display_name": "base",
   "language": "python",
   "name": "python3"
  },
  "language_info": {
   "codemirror_mode": {
    "name": "ipython",
    "version": 3
   },
   "file_extension": ".py",
   "mimetype": "text/x-python",
   "name": "python",
   "nbconvert_exporter": "python",
   "pygments_lexer": "ipython3",
   "version": "3.9.13"
  },
  "orig_nbformat": 4
 },
 "nbformat": 4,
 "nbformat_minor": 2
}
