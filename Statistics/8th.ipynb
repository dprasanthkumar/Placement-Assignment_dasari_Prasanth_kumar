{
 "cells": [
  {
   "cell_type": "code",
   "execution_count": null,
   "metadata": {},
   "outputs": [],
   "source": [
    "\"\"\"\n",
    "To perform the Wilcoxon signed-rank test, we need to calculate the signed ranks of the differences between the before and after therapy scores. Here are the steps to calculate the test statistic:\n",
    "\n",
    "1. Calculate the absolute differences between the before and after therapy scores:\n",
    "   -3, -2, -2, -3, -1, -1, -2, -1, -2, -2\n",
    "\n",
    "2. Rank the absolute differences in ascending order:\n",
    "   -3, -3, -2, -2, -2, -2, -2, -1, -1, -1\n",
    "\n",
    "3. Assign signed ranks to the differences. Positive ranks are given to positive differences, and negative ranks are given to negative differences:\n",
    "   -3: -4\n",
    "   -3: -4\n",
    "   -2: -2.5\n",
    "   -2: -2.5\n",
    "   -2: -2.5\n",
    "   -2: -2.5\n",
    "   -2: -2.5\n",
    "   -1: -0.5\n",
    "   -1: -0.5\n",
    "   -1: -0.5\n",
    "\n",
    "4. Calculate the sum of the signed ranks:\n",
    "   -4 + (-4) + (-2.5) + (-2.5) + (-2.5) + (-2.5) + (-2.5) + (-0.5) + (-0.5) + (-0.5) = -22\n",
    "\n",
    "5. The Wilcoxon signed-rank test statistic is the smaller of the sum of the positive ranks and the sum of the negative ranks (in absolute value). Since all ranks are negative in this case, the test statistic is the absolute value of the sum of the negative ranks:\n",
    "   |-22| = 22\n",
    "\n",
    "6. To determine the critical value for the test, we need to refer to the Wilcoxon signed-rank table or use statistical software. The critical value depends on the sample size. Since we have 10 participants, we'll use a significance level (α) of 0.05. Looking up the critical value in the table, we find that the critical value for a sample size of 10 and α = 0.05 is 21.\n",
    "\n",
    "7. Compare the test statistic to the critical value. If the test statistic is greater than the critical value, we reject the null hypothesis. Otherwise, we fail to reject the null hypothesis. In this case, the test statistic (22) is greater than the critical value (21), so we reject the null hypothesis.\n",
    "\n",
    "Therefore, based on the Wilcoxon signed-rank test, we can conclude that the therapy had a significant effect on anxiety levels.\n",
    "\"\"\""
   ]
  }
 ],
 "metadata": {
  "language_info": {
   "name": "python"
  },
  "orig_nbformat": 4
 },
 "nbformat": 4,
 "nbformat_minor": 2
}
