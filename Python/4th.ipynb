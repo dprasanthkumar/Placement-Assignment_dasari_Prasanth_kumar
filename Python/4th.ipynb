{
 "cells": [
  {
   "cell_type": "code",
   "execution_count": 1,
   "metadata": {},
   "outputs": [
    {
     "name": "stdout",
     "output_type": "stream",
     "text": [
      "Data successfully saved as '4_meteorites.csv'\n"
     ]
    }
   ],
   "source": [
    "import requests\n",
    "import csv\n",
    "\n",
    "def download_data(url):\n",
    "    response = requests.get(url)\n",
    "    data = response.json()\n",
    "    return data\n",
    "\n",
    "def convert_to_csv(data, filename):\n",
    "    # Define the fieldnames for the CSV file\n",
    "    fieldnames = [\n",
    "        'name',\n",
    "        'id',\n",
    "        'nametype',\n",
    "        'recclass',\n",
    "        'mass (g)',\n",
    "        'year',\n",
    "        'reclat',\n",
    "        'reclong',\n",
    "        'coordinates'\n",
    "    ]\n",
    "\n",
    "    # Open the CSV file in write mode\n",
    "    with open(filename, 'w', newline='') as csvfile:\n",
    "        writer = csv.DictWriter(csvfile, fieldnames=fieldnames)\n",
    "\n",
    "        # Write the header row\n",
    "        writer.writeheader()\n",
    "\n",
    "        # Write each meteorite's data as a row in the CSV file\n",
    "        for meteorite in data:\n",
    "            mass = meteorite.get('mass (g)', '')  # Check if key exists, provide default value if not\n",
    "            writer.writerow({\n",
    "                'name': meteorite.get('name', ''),\n",
    "                'id': meteorite.get('id', ''),\n",
    "                'nametype': meteorite.get('nametype', ''),\n",
    "                'recclass': meteorite.get('recclass', ''),\n",
    "                'mass (g)': mass,\n",
    "                'year': meteorite.get('year', ''),\n",
    "                'reclat': meteorite.get('reclat', ''),\n",
    "                'reclong': meteorite.get('reclong', ''),\n",
    "                'coordinates': meteorite.get('geolocation', {}).get('coordinates', [])\n",
    "            })\n",
    "\n",
    "    print(f\"Data successfully saved as '{filename}'\")\n",
    "\n",
    "# Download the data from the API link\n",
    "url = 'https://data.nasa.gov/resource/y77d-th95.json'\n",
    "data = download_data(url)\n",
    "\n",
    "# Convert the data into CSV format and save it\n",
    "filename = '4_meteorites.csv'\n",
    "convert_to_csv(data, filename)"
   ]
  },
  {
   "cell_type": "code",
   "execution_count": null,
   "metadata": {},
   "outputs": [],
   "source": []
  }
 ],
 "metadata": {
  "kernelspec": {
   "display_name": "base",
   "language": "python",
   "name": "python3"
  },
  "language_info": {
   "codemirror_mode": {
    "name": "ipython",
    "version": 3
   },
   "file_extension": ".py",
   "mimetype": "text/x-python",
   "name": "python",
   "nbconvert_exporter": "python",
   "pygments_lexer": "ipython3",
   "version": "3.9.13"
  },
  "orig_nbformat": 4
 },
 "nbformat": 4,
 "nbformat_minor": 2
}
